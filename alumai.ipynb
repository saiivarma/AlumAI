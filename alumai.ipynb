{
 "cells": [
  {
   "cell_type": "code",
   "execution_count": 4,
   "metadata": {},
   "outputs": [],
   "source": [
    "import os\n",
    "import numpy as np\n",
    "from getpass import getpass\n",
    "\n",
    "from langchain.document_loaders import UnstructuredPDFLoader, OnlinePDFLoader\n",
    "from langchain.text_splitter import RecursiveCharacterTextSplitter\n",
    "\n",
    "#LLMS\n",
    "from langchain.llms import OpenAI\n",
    "from langchain.chains.question_answering import load_qa_chain\n",
    "\n",
    "#Libraries for word and vector embeddings\n",
    "from langchain.embeddings.openai import OpenAIEmbeddings\n",
    "from langchain.vectorstores import Chroma"
   ]
  },
  {
   "cell_type": "code",
   "execution_count": 6,
   "metadata": {},
   "outputs": [],
   "source": [
    "data_path = \"Resume_data\"\n",
    "\n",
    "files = os.listdir(data_path)"
   ]
  },
  {
   "cell_type": "code",
   "execution_count": 12,
   "metadata": {},
   "outputs": [],
   "source": [
    "def load_data(file):\n",
    "  loader = UnstructuredPDFLoader(file)\n",
    "  return loader.load() "
   ]
  },
  {
   "cell_type": "code",
   "execution_count": 13,
   "metadata": {},
   "outputs": [
    {
     "name": "stderr",
     "output_type": "stream",
     "text": [
      "[nltk_data] Downloading package punkt to /Users/vsvsvarma/nltk_data...\n",
      "[nltk_data]   Unzipping tokenizers/punkt.zip.\n",
      "[nltk_data] Downloading package averaged_perceptron_tagger to\n",
      "[nltk_data]     /Users/vsvsvarma/nltk_data...\n",
      "[nltk_data]   Unzipping taggers/averaged_perceptron_tagger.zip.\n"
     ]
    }
   ],
   "source": [
    "resumes = {}\n",
    "\n",
    "for i in files:\n",
    "  resumes[i] = load_data(\"Resume_data/{}\".format(i))"
   ]
  },
  {
   "cell_type": "code",
   "execution_count": 15,
   "metadata": {},
   "outputs": [
    {
     "name": "stdout",
     "output_type": "stream",
     "text": [
      "Enter OpenAI private key:\n"
     ]
    }
   ],
   "source": [
    "print(\"Enter OpenAI private key:\")\n",
    "OPENAI_PRIVATE_KEY = getpass()"
   ]
  },
  {
   "cell_type": "code",
   "execution_count": 17,
   "metadata": {},
   "outputs": [],
   "source": [
    "embeddings = OpenAIEmbeddings(openai_api_key = OPENAI_PRIVATE_KEY)\n"
   ]
  },
  {
   "cell_type": "code",
   "execution_count": 18,
   "metadata": {},
   "outputs": [],
   "source": [
    "data = [ i[0] for i in list(resumes.values())]"
   ]
  },
  {
   "cell_type": "code",
   "execution_count": 21,
   "metadata": {},
   "outputs": [],
   "source": [
    "db = Chroma.from_documents(data, embeddings)"
   ]
  },
  {
   "cell_type": "code",
   "execution_count": 22,
   "metadata": {},
   "outputs": [],
   "source": [
    "query = input()"
   ]
  },
  {
   "cell_type": "code",
   "execution_count": 24,
   "metadata": {},
   "outputs": [
    {
     "data": {
      "text/plain": [
       "[Document(page_content=\"Sanskriti Garg San Francisco, CA -Email me on Indeed: http://www.indeed.com/r/Sanskriti-Garg/07feaa041e30e827\\n\\nWork Experience\\n\\nBrand Manager Marico India - Mumbai, Maharashtra August 2019 to January 2022\\n\\nHeaded strategic business planning and go-to-market strategy for 3 brands with $35M revenue. Managed a Brand Executive. • Led cross-functional team to reposition a declining brand; Achieved 90 bps penetration gain within first 12 months of launch • Created go-to-market strategy for pan-India product relaunch and organized product launch briefs for key leadership stakeholders and 100+ sales team • Implemented A/B testing of 30+ digital creatives to optimize digital marketing strategy and effective deployment across Meta, YT • Researched competitors' UX/UI, gathered UX feedback from 30+ users; Provided feedback to design team to create brand UX/UI • Spearheaded cross-functional collaboration of 10 from product, design and external agencies to develop low-cost product versions; tested the products amongst 500+ consumers and proposed the best option basis action standards • Conceptualized multiple value propositions using 100+ megatrends in hair category and conducted market research amongst 300+ consumers; Built product vision and strategy for Marico’s first premium haircare range basis market research • Crafted product requirements basis user study and competition benchmarking for specifications for product team\\n\\nProduct Manager Nivea India - Mumbai, Maharashtra June 2014 to July 2019\\n\\nShopper Marketing Manager Marketing Manager August 2017 to March 2018\\n\\nSales Manager August 2015 to July 2017\\n\\nManagement Trainee June 2014 to July 2015\\n\\nHeaded business planning, market strategy and budget handling for male grooming portfolio, with $20M revenue. • Designed and conducted qualitative market research amongst 70+ consumers to identify gaps in beard grooming market\\n\\nDeployed $40K budget digital campaign for new product launch and activated it on Amazon and other e-commerce platforms • Managed cross-functional team of 6 from product, supply chain, regulatory, and vendors to re-launch existing Facewash range • Awarded Blue Knight award for successfully delivering project within set deadlines (top 2% of the organization) • Executed retail and consumer business strategies in West India. Managed a team of 2 to support sales force. • Recognized with most prestigious CEO Award for outstanding regional marketing activation amongst young consumers • Led team of 34 to deliver $3M territory sales; Delivered 22% sales growth making it 3rd fastest growing territory (in 27) in India • Collaborated with engineering and design teams to develop UI/UX for digital platform along with the go-to-market strategy for product activation launched in 36 countries • Automated distributor assessment by building an Excel based platform that rated 320 distributors and advised future course of action for each one\\n\\nEducation\\n\\nMaster of Science in Business Analytics HULT International Business School - San Francisco, CA August 2023\\n\\nMBA in Full-Time Program Indian Institute of Management (IIM) - Lucknow, Uttar Pradesh March 2014\\n\\nBachelor of Engineering in Electronics and Communication University of Delhi - Delhi, Delhi May 2012\\n\\nSkills\\n\\nLanguages : SQL, Python, R Data Visualization : Tableau Other Skills : Microsoft Office , Microsoft Excel, Tableau , Agile , Scrum , Fundamentals of Digital Marketing (Simplilearn)\\n\\nLinks\\n\\nhttp://www.linkedin.com/in/sanskriti-garg\", metadata={'source': 'Resume_data/Sanskriti-Garg.pdf'}),\n",
       " Document(page_content='RUDRA TRIVEDI Old Bridge, NJ -Email me on Indeed: http://www.indeed.com/r/RUDRA-TRIVEDI/f0e70b8a6c1c80d2\\n\\nAn Innovative and Experienced Director with 8+ years of demonstrated history of working in the marketing communication industry, hospital, and healthcare industry. Skilled in Sales, Communication, Management, Leadership, and Strategic Planning. Strong business development professional with a Master of Business Administration – MBA focused on Management Information Systems, General and MS in Human Sciences Business Services.\\n\\nWilling to relocate: Anywhere\\n\\nWork Experience\\n\\nDirector of Operations (Business & Market Development) HORIZON HOME CARE SERVICES - New York, NY August 2018 to Present\\n\\nEnhanced the financial performance against monthly expenses revenue budget by improving the overall contribution margin by 8-10% in less than 2 months. • Excel in overall customer care by working closely with physicians, nursing management, and case managers in addressing patient family needs while being considerate of company’s goals. • Act as liaison with medical director, facility’s administrator, and the corporate to effectively coordinate clinical and operational matters. Collaborate with staff at all professional levels to identify areas of improvement. • Improved the overall contribution margin by gt: 10-15% in less than 6 months by carefully managing the expenses and increasing the caseload. • Lead business case development and justification to determine the merits and prioritizations of business opportunities. Consistently interfaces with referrals sources to achieve maximum revenue generation for Skilled Nursing home while maintaining quality of care. • Ability to make presentations to C-level executives, create and implemented comprehensive marketing plans and programs annually and on an as-needed basis for the facility\\'s long and short-term. • Experienced in handling multiple skilled nursing locations.\\n\\nBusiness Analyst, Operations American Medical - New York, NY August 2018 to Present\\n\\nEvaluating business processes, anticipating requirements, uncovering areas for improvement, and developing and implementing solutions. • Leading ongoing reviews of business processes and developing optimization strategies. • Conducting meetings and presentations to share ideas and findings. • Performing requirements analysis. • Effectively communicating insights and plans to cross-functional team members and management.\\n\\nGraduate Teaching Assistant TEXAS A&M UNIVERSITY - Kingsville, TX April 2017 to June 2018\\n\\nConducted Problem sessions to review class materials for Business Services. • Apply departmental processes related to peer advising/mentoring. • Contribute to the development of appropriate teaching materials to ensure content and methods of delivery meet learning objectives.\\n\\nManaging Director GRAPHTEK SYSTEM - GUJARAT, INDIA July 2014 to November 2016\\n\\nDeveloped a strong point of view on the application of data and technology marketing solutions for clients and influenced growth across all product suites to deliver higher-value relationships with clients. • Responsible for the creation, optimization, management and tracking of business revenue growth, profitability, staff plan and profit tracking for Technical Services. • Assist with strengthening existing client relationships by participating in sales meetings and working on proposals. • Perform financial modeling and work with tax and legal professionals in the structuring of transactions and analyzing contracts and agreements and Consults with customers on changing industry trends/ projections/budget planning/etc..\\n\\nMarketing Communication Manager M COMMUNICATION SYSTEMS - GUJARAT, INDIA July 2013 to June 2014\\n\\nCreated a new format for reporting and presenting the sales, customer engagement and google AdWords reports that shortened meetings by 30%. • Develop, maintain and managed relationships across regions to ensure the best exchange of ideas and information and, ultimately, help deliver better results for the business. • Lead the marketing and communication team and help them deliver in a harmonious, innovative and structured way on the strategy agreed by the Director.\\n\\nMarketing Specialist RELIANCE INDUSTRIES LTD. - GUJARAT, INDIA January 2013 to May 2013\\n\\nAssisted in creation of press releases and new catalogs • Assist account executives in promoting products by ensuring the availability of appropriate sales tools, techniques and facilitate timely, effective communication. • Engage and maintain relations with customers and resolve customer concerns.\\n\\nEducation\\n\\nMASTER OF BUSINESS ADMINISTRATION in MANAGEMENT INFORMATION SYSTEM CAMPBELLSVILLE UNIVERSITY - Campbellsville, KY May 2019 to July 2020\\n\\nMASTER OF SCIENCE in BUSINESS AND CONSUMER SCIENCE/HUMAN SCIENCE TEXAS A&M UNIVERSITY - Kingsville, TX January 2017 to October 2018\\n\\nBACHELOR OF SCIENCE in PHYSIOTHERAPY GUJARAT UNIVERSITY - GUJARAT, IN August 2011 to April 2015\\n\\nSkills\\n\\nResearch\\n\\nCommunication\\n\\nCRM\\n\\nProblem Solving\\n\\nCustomer Service and Support\\n\\nLeadership\\n\\nSales & Marketing Strategy\\n\\nStrategic Planning\\n\\nFinance\\n\\nManagement\\n\\nMedicare & Medicaid\\n\\nMicrosoft Office (Excel, Word, PowerPoint)\\n\\nBusiness Development\\n\\nBudgeting\\n\\nSalesforce\\n\\nSearch Engine Optimization (SEO)\\n\\nEmail Marketing\\n\\nGoogle Ads\\n\\nSQL\\n\\nSearch engines\\n\\nProduct management\\n\\nSupply chain\\n\\nSales\\n\\nSocial media management\\n\\nHealthcare\\n\\nMicrosoft Office\\n\\nCommunication skills\\n\\nMarketing\\n\\nMicrosoft Excel\\n\\nAccount management\\n\\nTime management\\n\\nB2B\\n\\nTime management\\n\\nOrganizational management\\n\\nEnglish\\n\\nHealthcare management\\n\\nOperations management\\n\\nProfit & loss\\n\\nAccounting\\n\\nFinancial management\\n\\nCertifications and Licenses\\n\\nScaling Operations: Linking Strategy and Execution- Northwestern University September 2022 to Present\\n\\nLinking strategy and execution is a course dedicated to making strategic decisions that are grounded in operational reality. Together, we will study how to build and evaluate the \"operating system\" of the firm to maximize value. This involves tailoring the firm\\'s operational competencies, assets, and processes to a specific business strategy.\\n\\nSupply Chain Management- Rutgers the State University of New Jersey August 2022 to Present', metadata={'source': 'Resume_data/RUDRA-TRIVEDI.pdf'})]"
      ]
     },
     "execution_count": 24,
     "metadata": {},
     "output_type": "execute_result"
    }
   ],
   "source": [
    "search_results = db.similarity_search(query, k = 2)\n",
    "search_results"
   ]
  },
  {
   "cell_type": "code",
   "execution_count": 25,
   "metadata": {},
   "outputs": [],
   "source": [
    "universities = \"Cornell University\""
   ]
  },
  {
   "cell_type": "code",
   "execution_count": 26,
   "metadata": {},
   "outputs": [],
   "source": [
    "prompt = \"I want you to act as an education counseller and recommend potential carreer paths to student who's graduating from his bachelor's degree and planning on moving to USA for masters. Based on the resumes below recommend student some of the hard skills that he needs to learn & include how {} can help him achieve these skills and advance in his career.\".format(universities) + query"
   ]
  },
  {
   "cell_type": "code",
   "execution_count": 27,
   "metadata": {},
   "outputs": [],
   "source": [
    "llm = OpenAI(temperature = 0, openai_api_key= OPENAI_PRIVATE_KEY, max_tokens= 512)\n",
    "chain = load_qa_chain(llm,chain_type = 'stuff')"
   ]
  },
  {
   "cell_type": "code",
   "execution_count": 28,
   "metadata": {},
   "outputs": [],
   "source": [
    "llm = OpenAI(temperature = 0, openai_api_key= OPENAI_PRIVATE_KEY, max_tokens= 512)\n",
    "chain = load_qa_chain(llm,chain_type = 'stuff')"
   ]
  },
  {
   "cell_type": "code",
   "execution_count": 29,
   "metadata": {},
   "outputs": [
    {
     "data": {
      "text/plain": [
       "'\\n\\nBased on the resumes of Sanskriti Garg and Rudra Trivedi, it appears that both have a strong background in marketing and business. For Sanskriti, she has experience in brand management, product management, and shopper marketing. For Rudra, he has experience in business analysis, operations, and marketing communications.\\n\\nTo advance in their careers, both Sanskriti and Rudra should consider learning more about digital marketing, data analytics, and project management. Cornell University offers a range of courses in these areas, such as Digital Marketing Strategies, Data Analytics for Business, and Project Management for Business. These courses can help them develop the skills they need to succeed in their respective fields.'"
      ]
     },
     "execution_count": 29,
     "metadata": {},
     "output_type": "execute_result"
    }
   ],
   "source": [
    "response = chain.run(input_documents = search_results, question = prompt)\n",
    "response"
   ]
  }
 ],
 "metadata": {
  "kernelspec": {
   "display_name": "alumai",
   "language": "python",
   "name": "python3"
  },
  "language_info": {
   "codemirror_mode": {
    "name": "ipython",
    "version": 3
   },
   "file_extension": ".py",
   "mimetype": "text/x-python",
   "name": "python",
   "nbconvert_exporter": "python",
   "pygments_lexer": "ipython3",
   "version": "3.11.3"
  },
  "orig_nbformat": 4,
  "vscode": {
   "interpreter": {
    "hash": "b21c71cf982bee1ed52492ed2b91f838193ca74d1076ac733a8dc3e214157abb"
   }
  }
 },
 "nbformat": 4,
 "nbformat_minor": 2
}
